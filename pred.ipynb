{
 "cells": [
  {
   "cell_type": "code",
   "execution_count": 3,
   "metadata": {},
   "outputs": [
    {
     "name": "stdout",
     "output_type": "stream",
     "text": [
      "\n",
      "\n",
      "\n",
      "image 1/1 c:\\Users\\Briyash\\Desktop\\Internshala\\TEST\\SS2.png: 640x320 1 CheckedTextView, 6 ImageViews, 2 TextViews, 284.3ms\n",
      "image 1/1 c:\\Users\\Briyash\\Desktop\\Internshala\\TEST\\SS2.png: 640x320 1 CheckedTextView, 6 ImageViews, 2 TextViews, 284.3ms\n",
      "image 1/1 c:\\Users\\Briyash\\Desktop\\Internshala\\TEST\\SS2.png: 640x320 1 CheckedTextView, 6 ImageViews, 2 TextViews, 284.3ms\n",
      "Speed: 7.6ms preprocess, 284.3ms inference, 4.9ms postprocess per image at shape (1, 3, 640, 320)\n",
      "Speed: 7.6ms preprocess, 284.3ms inference, 4.9ms postprocess per image at shape (1, 3, 640, 320)\n",
      "Speed: 7.6ms preprocess, 284.3ms inference, 4.9ms postprocess per image at shape (1, 3, 640, 320)\n",
      "Results saved to \u001b[1mruns\\detect\\predict2\u001b[0m\n",
      "Results saved to \u001b[1mruns\\detect\\predict2\u001b[0m\n",
      "Results saved to \u001b[1mruns\\detect\\predict2\u001b[0m\n"
     ]
    },
    {
     "data": {
      "text/plain": [
       "[ultralytics.engine.results.Results object with attributes:\n",
       " \n",
       " boxes: ultralytics.engine.results.Boxes object\n",
       " keypoints: None\n",
       " masks: None\n",
       " names: {0: 'Button', 1: 'CheckBox', 2: 'CheckedTextView', 3: 'EditText', 4: 'EditText-', 5: 'ImageButton', 6: 'ImageView', 7: 'ProgressBar', 8: 'RadioButton', 9: 'RatingBar', 10: 'SeekBar', 11: 'Spinner', 12: 'Switch', 13: 'TextView', 14: 'Input field', 15: 'QR code', 16: 'USP', 17: 'accordion', 18: 'alert', 19: 'badge', 20: 'bag', 21: 'breadcrumbs', 22: 'card', 23: 'carousel', 24: 'content', 25: 'copy', 26: 'data feed', 27: 'date picker', 28: 'decoration', 29: 'dropdown', 30: 'footer', 31: 'header', 32: 'heading', 33: 'hero image', 34: 'icon', 35: 'illustration', 36: 'image', 37: 'label', 38: 'logo', 39: 'navigation', 40: 'pagination', 41: 'placeholder', 42: 'pop-up', 43: 'progress bar', 44: 'slider', 45: 'tab', 46: 'tag', 47: 'title', 48: 'tooltip', 49: 'video'}\n",
       " orig_img: array([[[141, 141, 141],\n",
       "         [208, 208, 209],\n",
       "         [208, 208, 209],\n",
       "         ...,\n",
       "         [208, 208, 209],\n",
       "         [208, 208, 209],\n",
       "         [208, 208, 209]],\n",
       " \n",
       "        [[141, 141, 141],\n",
       "         [208, 208, 209],\n",
       "         [208, 208, 209],\n",
       "         ...,\n",
       "         [208, 208, 209],\n",
       "         [208, 208, 209],\n",
       "         [208, 208, 209]],\n",
       " \n",
       "        [[141, 141, 141],\n",
       "         [208, 208, 209],\n",
       "         [208, 208, 209],\n",
       "         ...,\n",
       "         [208, 208, 209],\n",
       "         [208, 208, 209],\n",
       "         [208, 208, 209]],\n",
       " \n",
       "        ...,\n",
       " \n",
       "        [[141, 141, 141],\n",
       "         [208, 208, 209],\n",
       "         [208, 208, 209],\n",
       "         ...,\n",
       "         [208, 208, 209],\n",
       "         [208, 208, 209],\n",
       "         [208, 208, 209]],\n",
       " \n",
       "        [[141, 141, 141],\n",
       "         [208, 208, 209],\n",
       "         [208, 208, 209],\n",
       "         ...,\n",
       "         [208, 208, 209],\n",
       "         [208, 208, 209],\n",
       "         [208, 208, 209]],\n",
       " \n",
       "        [[141, 141, 141],\n",
       "         [208, 208, 209],\n",
       "         [208, 208, 209],\n",
       "         ...,\n",
       "         [208, 208, 209],\n",
       "         [208, 208, 209],\n",
       "         [208, 208, 209]]], dtype=uint8)\n",
       " orig_shape: (623, 287)\n",
       " path: 'c:\\\\Users\\\\Briyash\\\\Desktop\\\\Internshala\\\\TEST\\\\SS2.png'\n",
       " probs: None\n",
       " save_dir: 'runs\\\\detect\\\\predict2'\n",
       " speed: {'preprocess': 7.603645324707031, 'inference': 284.27577018737793, 'postprocess': 4.875421524047852}]"
      ]
     },
     "execution_count": 3,
     "metadata": {},
     "output_type": "execute_result"
    },
    {
     "ename": "",
     "evalue": "",
     "output_type": "error",
     "traceback": [
      "\u001b[1;31mThe Kernel crashed while executing code in the the current cell or a previous cell. Please review the code in the cell(s) to identify a possible cause of the failure. Click <a href='https://aka.ms/vscodeJupyterKernelCrash'>here</a> for more info. View Jupyter <a href='command:jupyter.viewOutput'>log</a> for further details."
     ]
    }
   ],
   "source": [
    "# install yolo using pip install ultralytics\n",
    "# This only runs in python 3.10 and below\n",
    "from ultralytics import YOLO    # import YOLO\n",
    "model = YOLO(\"../runs/detect/train/weights/best.pt\")     # use the model we built and pretrained\n",
    "\n",
    "# predict using the model\n",
    "model.predict(source=\"SS1.png\", save=True, show=True, conf=0.35) \n",
    "# source parameter is the image source\n",
    "# save parameter saves the predictions in runs/detect/predict\n",
    "# show parameter shows the result in a window\n",
    "# conf is the confidence parameter"
   ]
  }
 ],
 "metadata": {
  "kernelspec": {
   "display_name": "Python 3",
   "language": "python",
   "name": "python3"
  },
  "language_info": {
   "codemirror_mode": {
    "name": "ipython",
    "version": 3
   },
   "file_extension": ".py",
   "mimetype": "text/x-python",
   "name": "python",
   "nbconvert_exporter": "python",
   "pygments_lexer": "ipython3",
   "version": "3.9.11"
  }
 },
 "nbformat": 4,
 "nbformat_minor": 2
}
